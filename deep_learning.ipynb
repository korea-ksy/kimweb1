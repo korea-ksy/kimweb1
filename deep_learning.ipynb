{
  "nbformat": 4,
  "nbformat_minor": 0,
  "metadata": {
    "colab": {
      "name": "deep learning",
      "provenance": [],
      "collapsed_sections": [],
      "authorship_tag": "ABX9TyO/hiJhgga0Egpcgla9mWsr",
      "include_colab_link": true
    },
    "kernelspec": {
      "name": "python3",
      "display_name": "Python 3"
    },
    "language_info": {
      "name": "python"
    }
  },
  "cells": [
    {
      "cell_type": "markdown",
      "metadata": {
        "id": "view-in-github",
        "colab_type": "text"
      },
      "source": [
        "<a href=\"https://colab.research.google.com/github/woongayee/kimweb1/blob/main/deep_learning.ipynb\" target=\"_parent\"><img src=\"https://colab.research.google.com/assets/colab-badge.svg\" alt=\"Open In Colab\"/></a>"
      ]
    },
    {
      "cell_type": "code",
      "metadata": {
        "colab": {
          "base_uri": "https://localhost:8080/"
        },
        "id": "oY0BJxBRwSOW",
        "outputId": "ea851bcf-c772-4cb8-9bdb-b20489b63008"
      },
      "source": [
        "def NAND(x1,x2):\n",
        "    w1,w2,theta = -0.5, -0.5, -0.7\n",
        "    tmp = x1*w1 + x2*w2\n",
        "    if tmp <= theta:\n",
        "        return 0\n",
        "    elif tmp > theta:\n",
        "        return 1\n",
        "NAND(0,1) \n"
      ],
      "execution_count": 25,
      "outputs": [
        {
          "output_type": "execute_result",
          "data": {
            "text/plain": [
              "1"
            ]
          },
          "metadata": {
            "tags": []
          },
          "execution_count": 25
        }
      ]
    },
    {
      "cell_type": "code",
      "metadata": {
        "id": "o7CjMr_cxf3h"
      },
      "source": [
        ""
      ],
      "execution_count": 12,
      "outputs": []
    }
  ]
}