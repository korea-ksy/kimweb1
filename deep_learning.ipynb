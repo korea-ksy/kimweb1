{
  "nbformat": 4,
  "nbformat_minor": 0,
  "metadata": {
    "colab": {
      "name": "deep learning",
      "provenance": [],
      "collapsed_sections": [],
      "authorship_tag": "ABX9TyO5DcwkNFUMxWYcUMCIHhAq",
      "include_colab_link": true
    },
    "kernelspec": {
      "name": "python3",
      "display_name": "Python 3"
    },
    "language_info": {
      "name": "python"
    }
  },
  "cells": [
    {
      "cell_type": "markdown",
      "metadata": {
        "id": "view-in-github",
        "colab_type": "text"
      },
      "source": [
        "<a href=\"https://colab.research.google.com/github/woongayee/kimweb1/blob/main/deep_learning.ipynb\" target=\"_parent\"><img src=\"https://colab.research.google.com/assets/colab-badge.svg\" alt=\"Open In Colab\"/></a>"
      ]
    },
    {
      "cell_type": "code",
      "metadata": {
        "colab": {
          "base_uri": "https://localhost:8080/"
        },
        "id": "oY0BJxBRwSOW",
        "outputId": "ea851bcf-c772-4cb8-9bdb-b20489b63008"
      },
      "source": [
        "def NAND(x1,x2):\n",
        "    w1,w2,theta = -0.5, -0.5, -0.7\n",
        "    tmp = x1*w1 + x2*w2\n",
        "    if tmp <= theta:\n",
        "        return 0\n",
        "    elif tmp > theta:\n",
        "        return 1\n",
        "NAND(0,1) \n"
      ],
      "execution_count": 25,
      "outputs": [
        {
          "output_type": "execute_result",
          "data": {
            "text/plain": [
              "1"
            ]
          },
          "metadata": {
            "tags": []
          },
          "execution_count": 25
        }
      ]
    },
    {
      "cell_type": "code",
      "metadata": {
        "colab": {
          "base_uri": "https://localhost:8080/"
        },
        "id": "o7CjMr_cxf3h",
        "outputId": "c66073f5-4730-4721-b21b-38acd4d2d8e8"
      },
      "source": [
        "import numpy as np\n",
        "x = np.array([0,1])     #입력\n",
        "w = np.array([0.5,0.5]) #가중치\n",
        "b = -0.7                #편향\n",
        "w*x\n",
        "\n",
        "np.sum(x*w)\n",
        "np.sum(x*w) + b #대략 -0.2 ( 부동소수점 수에 의한 연산 오차)\n"
      ],
      "execution_count": 31,
      "outputs": [
        {
          "output_type": "execute_result",
          "data": {
            "text/plain": [
              "-0.19999999999999996"
            ]
          },
          "metadata": {
            "tags": []
          },
          "execution_count": 31
        }
      ]
    },
    {
      "cell_type": "code",
      "metadata": {
        "colab": {
          "base_uri": "https://localhost:8080/"
        },
        "id": "bzmf5RF5zfyK",
        "outputId": "2fc03bea-a10d-430d-bce3-0ba6bf0d284d"
      },
      "source": [
        "def AND(x1,x2):\n",
        "  x = np.array([x1,x2])                         #AND 게이트는 두개 다 1이어야  True\n",
        "  w = np.array([0.5,0.5])                        \n",
        "  b= -0.7\n",
        "  tmp = np.sum(w*x) + b\n",
        "  if tmp <= 0 :\n",
        "    return 0\n",
        "  else :\n",
        "    return 1\n",
        "AND(0,0)"
      ],
      "execution_count": 34,
      "outputs": [
        {
          "output_type": "execute_result",
          "data": {
            "text/plain": [
              "0"
            ]
          },
          "metadata": {
            "tags": []
          },
          "execution_count": 34
        }
      ]
    },
    {
      "cell_type": "code",
      "metadata": {
        "colab": {
          "base_uri": "https://localhost:8080/"
        },
        "id": "R_dF6Olv0DMs",
        "outputId": "d1ea0f5b-0cca-440e-b2ed-54f90f9345b0"
      },
      "source": [
        "def NAND(x1,x2):\n",
        "  x = np.array([x1,x2])                        #NAND 게이트는 두개 다 0 이어야 True\n",
        "  w = np.array([-0.5,-0.5])\n",
        "  b= 0.7\n",
        "  tmp = np.sum(w*x) + b\n",
        "  if tmp <= 0 :\n",
        "    return 0\n",
        "  else :\n",
        "    return 1\n",
        "NAND(0,0)"
      ],
      "execution_count": 35,
      "outputs": [
        {
          "output_type": "execute_result",
          "data": {
            "text/plain": [
              "1"
            ]
          },
          "metadata": {
            "tags": []
          },
          "execution_count": 35
        }
      ]
    },
    {
      "cell_type": "code",
      "metadata": {
        "colab": {
          "base_uri": "https://localhost:8080/"
        },
        "id": "QCkDwu0r0OML",
        "outputId": "578474ab-734f-40b2-a0d5-8215be7c8695"
      },
      "source": [
        "def OR(x1,x2):\n",
        "  x = np.array([x1,x2])                       #OR게이트는 둘중 하나만 1 이어도 True\n",
        "  w = np.array([0.5,0.5])\n",
        "  b= -0.2\n",
        "  tmp = np.sum(w*x) + b\n",
        "  if tmp <= 0 :\n",
        "    return 0\n",
        "  else :\n",
        "    return 1\n",
        "OR(1,1)"
      ],
      "execution_count": 46,
      "outputs": [
        {
          "output_type": "execute_result",
          "data": {
            "text/plain": [
              "1"
            ]
          },
          "metadata": {
            "tags": []
          },
          "execution_count": 46
        }
      ]
    },
    {
      "cell_type": "code",
      "metadata": {
        "colab": {
          "base_uri": "https://localhost:8080/"
        },
        "id": "LGFytNqc0Twn",
        "outputId": "aaa14030-c5be-4dc6-e183-87ff790aef97"
      },
      "source": [
        "def AND(x1,x2):\n",
        "  x = np.array([x1,x2])                         #AND 게이트는 두개 다 1이어야  True\n",
        "  w = np.array([0.5,0.5])                        \n",
        "  b= -0.7\n",
        "  tmp = np.sum(w*x) + b\n",
        "  if tmp <= 0 :\n",
        "    return 0\n",
        "  else :\n",
        "    return 1\n",
        "AND(0,0)\n",
        "\n",
        "def NAND(x1,x2):\n",
        "  x = np.array([x1,x2])                        #NAND 게이트는 두개 다 0 이어야 True\n",
        "  w = np.array([-0.5,-0.5])\n",
        "  b= 0.7\n",
        "  tmp = np.sum(w*x) + b\n",
        "  if tmp <= 0 :\n",
        "    return 0\n",
        "  else :\n",
        "    return 1\n",
        "NAND(0,0)\n",
        "\n",
        "def OR(x1,x2):\n",
        "  x = np.array([x1,x2])                       #OR게이트는 둘중 하나만 1 이어도 True\n",
        "  w = np.array([0.5,0.5])\n",
        "  b= -0.2\n",
        "  tmp = np.sum(w*x) + b\n",
        "  if tmp <= 0 :\n",
        "    return 0\n",
        "  else :\n",
        "    return 1\n",
        "OR(1,1)\n",
        "\n",
        "def XOR(x1,x2):                                # XOR 게이트는 달라야 True [(ex).(1,0),(0,1)]\n",
        "  s1 = NAND(x1,x2)\n",
        "  s2 = OR(x1,x2)\n",
        "  y = AND(s1,s2)\n",
        "  return y\n",
        "XOR(1,1)"
      ],
      "execution_count": 50,
      "outputs": [
        {
          "output_type": "execute_result",
          "data": {
            "text/plain": [
              "0"
            ]
          },
          "metadata": {
            "tags": []
          },
          "execution_count": 50
        }
      ]
    }
  ]
}